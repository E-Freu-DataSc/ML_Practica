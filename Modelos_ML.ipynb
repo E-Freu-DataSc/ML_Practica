{
 "cells": [
  {
   "cell_type": "code",
   "execution_count": 1,
   "metadata": {},
   "outputs": [],
   "source": [
    "import numpy as np\n",
    "import pandas as pd\n",
    "import matplotlib.pyplot as plt\n",
    "import seaborn as sns "
   ]
  },
  {
   "cell_type": "code",
   "execution_count": 2,
   "metadata": {},
   "outputs": [],
   "source": [
    "Heart_decease_df = pd.read_csv(r\"C:\\Users\\MiniNico\\Desktop\\Datasets\\Heart_attack_predictor\\heart.csv\")"
   ]
  },
  {
   "cell_type": "code",
   "execution_count": 3,
   "metadata": {},
   "outputs": [],
   "source": [
    "\n",
    "heart_disease_target = Heart_decease_df[['HeartDisease']]\n",
    "Heart_decease_df = Heart_decease_df.drop(columns=['HeartDisease'])\n"
   ]
  },
  {
   "cell_type": "code",
   "execution_count": 4,
   "metadata": {},
   "outputs": [],
   "source": [
    "Columnas_numericas =([col for col in Heart_decease_df.columns if Heart_decease_df[col].dtype in ['int64', 'float64']])\n",
    "Columnas_categoricas =([col for col in Heart_decease_df.columns if Heart_decease_df[col].dtype not in ['int64', 'float64']])"
   ]
  },
  {
   "cell_type": "code",
   "execution_count": 5,
   "metadata": {},
   "outputs": [],
   "source": [
    "Heart_decease_df[\"Cholesterol\"] = Heart_decease_df[\"Cholesterol\"].replace(0, Heart_decease_df[\"Cholesterol\"].mean())\n",
    "Heart_decease_df.drop(index=449, inplace=True)"
   ]
  },
  {
   "cell_type": "code",
   "execution_count": 6,
   "metadata": {},
   "outputs": [],
   "source": [
    "\n",
    "from scipy.stats import zscore\n",
    "# Calcula el Z-score en las columnas numéricas\n",
    "Heart_decease_df[Columnas_numericas] = Heart_decease_df[Columnas_numericas].apply(zscore)\n",
    "\n",
    "\n",
    "umbral_z = 3 \n",
    "Heart_decease_df = Heart_decease_df[(Heart_decease_df[Columnas_numericas].abs() < umbral_z).all(axis=1)]\n",
    "\n",
    "heart_disease_target = heart_disease_target.loc[Heart_decease_df.index]"
   ]
  },
  {
   "cell_type": "markdown",
   "metadata": {},
   "source": [
    "Resultado regression logistica primer modelo: 0.8532608695652174\n",
    "\n",
    "Cambios: Get dummies en categoricas y standart scaler en numericas"
   ]
  },
  {
   "cell_type": "markdown",
   "metadata": {},
   "source": [
    "Resultado regression logisitca segundo modelo: 0.8914\n",
    "\n",
    "Cambios: Remplazo de valores equivocados y eliminacon de outliers"
   ]
  },
  {
   "cell_type": "markdown",
   "metadata": {},
   "source": [
    "Resultado regression logisitca segundo modelo: 0.8933\n",
    "\n",
    "Cambios: Remplazo de valores equivocados solo en cholesterol y eliminacon de outliers"
   ]
  },
  {
   "cell_type": "markdown",
   "metadata": {},
   "source": [
    "Resultado regression logisitca segundo modelo: 0.8580\n",
    "\n",
    "Cambios: Se aplica validacion cruzada y searchgrid con los parametros de regression logistica"
   ]
  },
  {
   "cell_type": "code",
   "execution_count": 7,
   "metadata": {},
   "outputs": [
    {
     "name": "stderr",
     "output_type": "stream",
     "text": [
      "c:\\Users\\MiniNico\\AppData\\Local\\Programs\\Python\\Python36\\lib\\site-packages\\pandas\\core\\indexing.py:1734: SettingWithCopyWarning: \n",
      "A value is trying to be set on a copy of a slice from a DataFrame.\n",
      "Try using .loc[row_indexer,col_indexer] = value instead\n",
      "\n",
      "See the caveats in the documentation: https://pandas.pydata.org/pandas-docs/stable/user_guide/indexing.html#returning-a-view-versus-a-copy\n",
      "  isetter(loc, value[:, i].tolist())\n",
      "c:\\Users\\MiniNico\\AppData\\Local\\Programs\\Python\\Python36\\lib\\site-packages\\pandas\\core\\indexing.py:1734: SettingWithCopyWarning: \n",
      "A value is trying to be set on a copy of a slice from a DataFrame.\n",
      "Try using .loc[row_indexer,col_indexer] = value instead\n",
      "\n",
      "See the caveats in the documentation: https://pandas.pydata.org/pandas-docs/stable/user_guide/indexing.html#returning-a-view-versus-a-copy\n",
      "  isetter(loc, value[:, i].tolist())\n"
     ]
    },
    {
     "name": "stdout",
     "output_type": "stream",
     "text": [
      "Número de componentes que explican el 95% de la varianza: 11\n"
     ]
    },
    {
     "data": {
      "image/png": "[encoded data removed]",
      "text/plain": [
       "<Figure size 576x432 with 1 Axes>"
      ]
     },
     "metadata": {
      "needs_background": "light"
     },
     "output_type": "display_data"
    }
   ],
   "source": [
    "\n",
    "import matplotlib.pyplot as plt\n",
    "from sklearn.decomposition import PCA\n",
    "from sklearn.model_selection import train_test_split\n",
    "from sklearn.preprocessing import MinMaxScaler\n",
    "\n",
    "X = pd.get_dummies(Heart_decease_df, columns=Columnas_categoricas, drop_first=True)\n",
    "y = heart_disease_target\n",
    "\n",
    "\n",
    "X_train, X_test, y_train, y_test = train_test_split(X, y, test_size=0.2, random_state=42)\n",
    "\n",
    "scaler = MinMaxScaler()\n",
    "X_train.loc[: ,Columnas_numericas] = scaler.fit_transform(X_train[Columnas_numericas])\n",
    "X_test.loc[:, Columnas_numericas] = scaler.transform(X_test[Columnas_numericas])\n",
    "\n",
    "pca = PCA()\n",
    "X_train_pca = pca.fit_transform(X_train)\n",
    "\n",
    "varianza_acumulada = np.cumsum(pca.explained_variance_ratio_)\n",
    "\n",
    "num_componentes_95 = np.argmax(varianza_acumulada >= 0.95) + 1\n",
    "\n",
    "print(f'Número de componentes que explican el 95% de la varianza: {num_componentes_95}')\n",
    "\n",
    "\n",
    "plt.figure(figsize=(8, 6))\n",
    "plt.plot(range(1, len(varianza_acumulada) + 1), varianza_acumulada, marker='o', linestyle='--', color='b')\n",
    "plt.axhline(y=0.95, color='r', linestyle='-')\n",
    "plt.xlabel('Número de Componentes')\n",
    "plt.ylabel('Varianza Acumulada')\n",
    "plt.title('Componentes principales vs. Varianza Acumulada')\n",
    "plt.show()\n",
    "\n"
   ]
  },
  {
   "cell_type": "code",
   "execution_count": 9,
   "metadata": {},
   "outputs": [
    {
     "name": "stdout",
     "output_type": "stream",
     "text": [
      "Mejores hiperparámetros: {'C': 0.5, 'max_iter': 20, 'penalty': 'l1', 'solver': 'saga'}\n",
      "Mejor precisión en validación cruzada: 0.8580\n",
      "Precisión en el conjunto de prueba: 0.8989\n"
     ]
    },
    {
     "name": "stderr",
     "output_type": "stream",
     "text": [
      "c:\\Users\\MiniNico\\AppData\\Local\\Programs\\Python\\Python36\\lib\\site-packages\\sklearn\\model_selection\\_search.py:925: UserWarning: One or more of the test scores are non-finite: [       nan 0.77666275 0.54915884        nan        nan 0.8356025\n",
      " 0.8356025  0.83419405 0.8356025  0.83419405        nan        nan\n",
      "        nan        nan        nan        nan        nan        nan\n",
      "        nan        nan        nan 0.77666275 0.54915884        nan\n",
      "        nan 0.8356025  0.8356025  0.8356025  0.8356025  0.8356025\n",
      "        nan        nan        nan        nan        nan        nan\n",
      "        nan        nan        nan        nan        nan 0.77666275\n",
      " 0.54915884        nan        nan 0.8356025  0.8356025  0.8356025\n",
      " 0.8356025  0.8356025         nan        nan        nan        nan\n",
      "        nan        nan        nan        nan        nan        nan\n",
      "        nan 0.77666275 0.54915884        nan        nan 0.8356025\n",
      " 0.8356025  0.8356025  0.8356025  0.8356025         nan        nan\n",
      "        nan        nan        nan        nan        nan        nan\n",
      "        nan        nan        nan 0.77666275 0.54915884        nan\n",
      "        nan 0.8356025  0.8356025  0.8356025  0.8356025  0.8356025\n",
      "        nan        nan        nan        nan        nan        nan\n",
      "        nan        nan        nan        nan        nan 0.77666275\n",
      " 0.54915884        nan        nan 0.8356025  0.8356025  0.8356025\n",
      " 0.8356025  0.8356025         nan        nan        nan        nan\n",
      "        nan        nan        nan        nan        nan        nan\n",
      "        nan 0.77666275 0.54915884        nan        nan 0.8356025\n",
      " 0.8356025  0.8356025  0.8356025  0.8356025         nan        nan\n",
      "        nan        nan        nan        nan        nan        nan\n",
      "        nan        nan        nan 0.77666275 0.54915884        nan\n",
      "        nan 0.8356025  0.8356025  0.8356025  0.8356025  0.8356025\n",
      "        nan        nan        nan        nan        nan        nan\n",
      "        nan        nan        nan        nan        nan 0.84121674\n",
      " 0.83980829        nan        nan 0.85383412 0.85101721 0.84962833\n",
      " 0.85103678 0.85385368        nan        nan        nan        nan\n",
      "        nan        nan        nan        nan        nan        nan\n",
      "        nan 0.84121674 0.84121674        nan        nan 0.85103678\n",
      " 0.85101721 0.85103678 0.85103678 0.85103678        nan        nan\n",
      "        nan        nan        nan        nan        nan        nan\n",
      "        nan        nan        nan 0.84121674 0.84121674        nan\n",
      "        nan 0.85103678 0.85101721 0.85103678 0.85103678 0.85103678\n",
      "        nan        nan        nan        nan        nan        nan\n",
      "        nan        nan        nan        nan        nan 0.84121674\n",
      " 0.84121674        nan        nan 0.85103678 0.85101721 0.85103678\n",
      " 0.85103678 0.85103678        nan        nan        nan        nan\n",
      "        nan        nan        nan        nan        nan        nan\n",
      "        nan 0.84121674 0.84121674        nan        nan 0.85103678\n",
      " 0.85101721 0.85103678 0.85103678 0.85103678        nan        nan\n",
      "        nan        nan        nan        nan        nan        nan\n",
      "        nan        nan        nan 0.84121674 0.84121674        nan\n",
      "        nan 0.85103678 0.85101721 0.85103678 0.85103678 0.85103678\n",
      "        nan        nan        nan        nan        nan        nan\n",
      "        nan        nan        nan        nan        nan 0.84121674\n",
      " 0.84121674        nan        nan 0.85103678 0.85101721 0.85103678\n",
      " 0.85103678 0.85103678        nan        nan        nan        nan\n",
      "        nan        nan        nan        nan        nan        nan\n",
      "        nan 0.84121674 0.84121674        nan        nan 0.85103678\n",
      " 0.85101721 0.85103678 0.85103678 0.85103678        nan        nan\n",
      "        nan        nan        nan        nan        nan        nan\n",
      "        nan        nan        nan 0.85518388 0.85657277        nan\n",
      "        nan 0.84955008 0.85095853 0.84955008 0.84955008 0.85093897\n",
      "        nan        nan        nan        nan        nan        nan\n",
      "        nan        nan        nan        nan        nan 0.85518388\n",
      " 0.85798122        nan        nan 0.84955008 0.85095853 0.84955008\n",
      " 0.84955008 0.84955008        nan        nan        nan        nan\n",
      "        nan        nan        nan        nan        nan        nan\n",
      "        nan 0.85518388 0.85798122        nan        nan 0.84955008\n",
      " 0.85095853 0.84955008 0.84955008 0.84955008        nan        nan\n",
      "        nan        nan        nan        nan        nan        nan\n",
      "        nan        nan        nan 0.85518388 0.85798122        nan\n",
      "        nan 0.84955008 0.85095853 0.84955008 0.84955008 0.84955008\n",
      "        nan        nan        nan        nan        nan        nan\n",
      "        nan        nan        nan        nan        nan 0.85518388\n",
      " 0.85798122        nan        nan 0.84955008 0.85095853 0.84955008\n",
      " 0.84955008 0.84955008        nan        nan        nan        nan\n",
      "        nan        nan        nan        nan        nan        nan\n",
      "        nan 0.85518388 0.85798122        nan        nan 0.84955008\n",
      " 0.85095853 0.84955008 0.84955008 0.84955008        nan        nan\n",
      "        nan        nan        nan        nan        nan        nan\n",
      "        nan        nan        nan 0.85518388 0.85798122        nan\n",
      "        nan 0.84955008 0.85095853 0.84955008 0.84955008 0.84955008\n",
      "        nan        nan        nan        nan        nan        nan\n",
      "        nan        nan        nan        nan        nan 0.85518388\n",
      " 0.85798122        nan        nan 0.84955008 0.85095853 0.84955008\n",
      " 0.84955008 0.84955008        nan        nan        nan        nan\n",
      "        nan        nan        nan        nan        nan        nan\n",
      "        nan 0.85236698 0.85234742        nan        nan 0.84955008\n",
      " 0.84814163 0.84814163 0.84814163 0.85093897        nan        nan\n",
      "        nan        nan        nan        nan        nan        nan\n",
      "        nan        nan        nan 0.85377543 0.85093897        nan\n",
      "        nan 0.84814163 0.84814163 0.84814163 0.84814163 0.84814163\n",
      "        nan        nan        nan        nan        nan        nan\n",
      "        nan        nan        nan        nan        nan 0.85377543\n",
      " 0.85093897        nan        nan 0.84814163 0.84814163 0.84814163\n",
      " 0.84814163 0.84814163        nan        nan        nan        nan\n",
      "        nan        nan        nan        nan        nan        nan\n",
      "        nan 0.85377543 0.85093897        nan        nan 0.84814163\n",
      " 0.84814163 0.84814163 0.84814163 0.84814163        nan        nan\n",
      "        nan        nan        nan        nan        nan        nan\n",
      "        nan        nan        nan 0.85377543 0.85093897        nan\n",
      "        nan 0.84814163 0.84814163 0.84814163 0.84814163 0.84814163\n",
      "        nan        nan        nan        nan        nan        nan\n",
      "        nan        nan        nan        nan        nan 0.85377543\n",
      " 0.85093897        nan        nan 0.84814163 0.84814163 0.84814163\n",
      " 0.84814163 0.84814163        nan        nan        nan        nan\n",
      "        nan        nan        nan        nan        nan        nan\n",
      "        nan 0.85377543 0.85093897        nan        nan 0.84814163\n",
      " 0.84814163 0.84814163 0.84814163 0.84814163        nan        nan\n",
      "        nan        nan        nan        nan        nan        nan\n",
      "        nan        nan        nan 0.85377543 0.85093897        nan\n",
      "        nan 0.84814163 0.84814163 0.84814163 0.84814163 0.84814163\n",
      "        nan        nan        nan        nan        nan        nan\n",
      "        nan        nan        nan        nan        nan 0.84252739\n",
      " 0.84252739        nan        nan 0.84252739 0.84252739 0.84252739\n",
      " 0.84252739 0.84111894        nan        nan        nan        nan\n",
      "        nan        nan        nan        nan        nan        nan\n",
      "        nan 0.84252739 0.84252739        nan        nan 0.84252739\n",
      " 0.84252739 0.84252739 0.84252739 0.84252739        nan        nan\n",
      "        nan        nan        nan        nan        nan        nan\n",
      "        nan        nan        nan 0.84252739 0.84252739        nan\n",
      "        nan 0.84252739 0.84252739 0.84252739 0.84252739 0.84252739\n",
      "        nan        nan        nan        nan        nan        nan\n",
      "        nan        nan        nan        nan        nan 0.84252739\n",
      " 0.84391628        nan        nan 0.84252739 0.84252739 0.84252739\n",
      " 0.84252739 0.84252739        nan        nan        nan        nan\n",
      "        nan        nan        nan        nan        nan        nan\n",
      "        nan 0.84252739 0.84391628        nan        nan 0.84252739\n",
      " 0.84252739 0.84252739 0.84252739 0.84252739        nan        nan\n",
      "        nan        nan        nan        nan        nan        nan\n",
      "        nan        nan        nan 0.84252739 0.84391628        nan\n",
      "        nan 0.84252739 0.84252739 0.84252739 0.84252739 0.84252739\n",
      "        nan        nan        nan        nan        nan        nan\n",
      "        nan        nan        nan        nan        nan 0.84252739\n",
      " 0.84391628        nan        nan 0.84252739 0.84252739 0.84252739\n",
      " 0.84252739 0.84252739        nan        nan        nan        nan\n",
      "        nan        nan        nan        nan        nan        nan\n",
      "        nan 0.84252739 0.84391628        nan        nan 0.84252739\n",
      " 0.84252739 0.84252739 0.84252739 0.84252739        nan        nan\n",
      "        nan        nan        nan        nan        nan        nan\n",
      "        nan        nan        nan 0.84252739 0.84252739        nan\n",
      "        nan 0.84393584 0.84252739 0.84252739 0.84252739 0.83971049\n",
      "        nan        nan        nan        nan        nan        nan\n",
      "        nan        nan        nan        nan        nan 0.84252739\n",
      " 0.84252739        nan        nan 0.84252739 0.84252739 0.84252739\n",
      " 0.84252739 0.84252739        nan        nan        nan        nan\n",
      "        nan        nan        nan        nan        nan        nan\n",
      "        nan 0.84252739 0.84252739        nan        nan 0.84252739\n",
      " 0.84252739 0.84252739 0.84252739 0.84252739        nan        nan\n",
      "        nan        nan        nan        nan        nan        nan\n",
      "        nan        nan        nan 0.84252739 0.84252739        nan\n",
      "        nan 0.84252739 0.84252739 0.84252739 0.84252739 0.84252739\n",
      "        nan        nan        nan        nan        nan        nan\n",
      "        nan        nan        nan        nan        nan 0.84252739\n",
      " 0.84252739        nan        nan 0.84252739 0.84252739 0.84252739\n",
      " 0.84252739 0.84252739        nan        nan        nan        nan\n",
      "        nan        nan        nan        nan        nan        nan\n",
      "        nan 0.84252739 0.84252739        nan        nan 0.84252739\n",
      " 0.84252739 0.84252739 0.84252739 0.84252739        nan        nan\n",
      "        nan        nan        nan        nan        nan        nan\n",
      "        nan        nan        nan 0.84252739 0.84252739        nan\n",
      "        nan 0.84252739 0.84252739 0.84252739 0.84252739 0.84252739\n",
      "        nan        nan        nan        nan        nan        nan\n",
      "        nan        nan        nan        nan        nan 0.84252739\n",
      " 0.84252739        nan        nan 0.84252739 0.84252739 0.84252739\n",
      " 0.84252739 0.84252739        nan        nan        nan        nan\n",
      "        nan        nan        nan        nan        nan        nan]\n",
      "  category=UserWarning\n",
      "c:\\Users\\MiniNico\\AppData\\Local\\Programs\\Python\\Python36\\lib\\site-packages\\sklearn\\utils\\validation.py:63: DataConversionWarning: A column-vector y was passed when a 1d array was expected. Please change the shape of y to (n_samples, ), for example using ravel().\n",
      "  return f(*args, **kwargs)\n",
      "c:\\Users\\MiniNico\\AppData\\Local\\Programs\\Python\\Python36\\lib\\site-packages\\sklearn\\linear_model\\_sag.py:329: ConvergenceWarning: The max_iter was reached which means the coef_ did not converge\n",
      "  \"the coef_ did not converge\", ConvergenceWarning)\n"
     ]
    }
   ],
   "source": [
    "from sklearn.model_selection import GridSearchCV\n",
    "from sklearn.linear_model import LogisticRegression\n",
    "from sklearn.metrics import accuracy_score\n",
    "\n",
    "param_grid = {\n",
    "    'penalty': ['l1', 'l2', 'elasticnet', None],\n",
    "    'C': [0.01,0.1,0.5,1, 10, 100],\n",
    "    'solver': ['lbfgs', 'liblinear', 'saga', 'newton-cg', 'sag'],\n",
    "    'max_iter': [10,20,30,40, 100, 150, 200, 300]\n",
    "}\n",
    "\n",
    "logreg = LogisticRegression()\n",
    "\n",
    "grid_search = GridSearchCV(logreg, param_grid, cv=10, scoring='accuracy', n_jobs=-1)\n",
    "\n",
    "grid_search.fit(X_train, y_train)\n",
    "\n",
    "best_params = grid_search.best_params_\n",
    "best_score = grid_search.best_score_\n",
    "\n",
    "print(f'Mejores hiperparámetros: {best_params}')\n",
    "print(f'Mejor precisión en validación cruzada: {best_score:.4f}')\n",
    "\n",
    "\n",
    "best_logreg = grid_search.best_estimator_\n",
    "y_pred = best_logreg.predict(X_test)\n",
    "test_accuracy = accuracy_score(y_test, y_pred)\n",
    "print(f'Precisión en el conjunto de prueba: {test_accuracy:.4f}')"
   ]
  },
  {
   "cell_type": "code",
   "execution_count": 10,
   "metadata": {},
   "outputs": [
    {
     "name": "stderr",
     "output_type": "stream",
     "text": [
      "c:\\Users\\MiniNico\\AppData\\Local\\Programs\\Python\\Python36\\lib\\site-packages\\sklearn\\utils\\validation.py:63: DataConversionWarning: A column-vector y was passed when a 1d array was expected. Please change the shape of y to (n_samples, ), for example using ravel().\n",
      "  return f(*args, **kwargs)\n",
      "c:\\Users\\MiniNico\\AppData\\Local\\Programs\\Python\\Python36\\lib\\site-packages\\sklearn\\utils\\validation.py:63: DataConversionWarning: A column-vector y was passed when a 1d array was expected. Please change the shape of y to (n_samples, ), for example using ravel().\n",
      "  return f(*args, **kwargs)\n",
      "c:\\Users\\MiniNico\\AppData\\Local\\Programs\\Python\\Python36\\lib\\site-packages\\sklearn\\utils\\validation.py:63: DataConversionWarning: A column-vector y was passed when a 1d array was expected. Please change the shape of y to (n_samples, ), for example using ravel().\n",
      "  return f(*args, **kwargs)\n",
      "c:\\Users\\MiniNico\\AppData\\Local\\Programs\\Python\\Python36\\lib\\site-packages\\sklearn\\utils\\validation.py:63: DataConversionWarning: A column-vector y was passed when a 1d array was expected. Please change the shape of y to (n_samples, ), for example using ravel().\n",
      "  return f(*args, **kwargs)\n",
      "c:\\Users\\MiniNico\\AppData\\Local\\Programs\\Python\\Python36\\lib\\site-packages\\sklearn\\utils\\validation.py:63: DataConversionWarning: A column-vector y was passed when a 1d array was expected. Please change the shape of y to (n_samples, ), for example using ravel().\n",
      "  return f(*args, **kwargs)\n",
      "c:\\Users\\MiniNico\\AppData\\Local\\Programs\\Python\\Python36\\lib\\site-packages\\sklearn\\utils\\validation.py:63: DataConversionWarning: A column-vector y was passed when a 1d array was expected. Please change the shape of y to (n_samples, ), for example using ravel().\n",
      "  return f(*args, **kwargs)\n"
     ]
    },
    {
     "name": "stdout",
     "output_type": "stream",
     "text": [
      "Cross-Validation Scores: [0.87412587 0.86713287 0.8028169  0.83098592 0.82394366]\n",
      "Mean CV Accuracy: 0.8398\n",
      "Final Test Accuracy: 0.8876\n"
     ]
    }
   ],
   "source": [
    "from sklearn.model_selection import cross_val_score\n",
    "from sklearn.preprocessing import MinMaxScaler\n",
    "from sklearn.ensemble import StackingClassifier\n",
    "from sklearn.neighbors import KNeighborsClassifier\n",
    "from xgboost import XGBClassifier\n",
    "\n",
    "\n",
    "\n",
    "scaler = MinMaxScaler()\n",
    "X_train_scaled = X_train.copy()\n",
    "X_test_scaled = X_test.copy()\n",
    "X_train_scaled[Columnas_numericas] = scaler.fit_transform(X_train[Columnas_numericas])\n",
    "X_test_scaled[Columnas_numericas] = scaler.transform(X_test[Columnas_numericas])\n",
    "\n",
    "\n",
    "pca = PCA(n_components=11)\n",
    "X_train_pca = pca.fit_transform(X_train_scaled)\n",
    "X_test_pca = pca.transform(X_test_scaled)\n",
    "\n",
    "\n",
    "model1 = LogisticRegression(C=0.1, max_iter=100, penalty='l1', solver='saga')\n",
    "model2 = KNeighborsClassifier(n_neighbors=32)\n",
    "model3 = XGBClassifier(use_label_encoder=False, eval_metric='logloss')\n",
    "\n",
    "meta_model = LogisticRegression()\n",
    "\n",
    "\n",
    "stacking_clf = StackingClassifier(\n",
    "    estimators=[('lr', model1), ('rf', model2), ('xgb', model3)],\n",
    "    final_estimator=meta_model\n",
    ")\n",
    "\n",
    "\n",
    "cv_scores = cross_val_score(stacking_clf, X_train_pca, y_train, cv=5, scoring='accuracy')\n",
    "\n",
    "\n",
    "stacking_clf.fit(X_train_pca, y_train)\n",
    "\n",
    "\n",
    "y_pred = stacking_clf.predict(X_test_pca)\n",
    "accuracy = accuracy_score(y_test, y_pred)\n",
    "\n",
    "\n",
    "print(f'Cross-Validation Scores: {cv_scores}')\n",
    "print(f'Mean CV Accuracy: {cv_scores.mean():.4f}')\n",
    "print(f'Final Test Accuracy: {accuracy:.4f}')\n"
   ]
  }
 ],
 "metadata": {
  "kernelspec": {
   "display_name": "Python 3",
   "language": "python",
   "name": "python3"
  },
  "language_info": {
   "codemirror_mode": {
    "name": "ipython",
    "version": 3
   },
   "file_extension": ".py",
   "mimetype": "text/x-python",
   "name": "python",
   "nbconvert_exporter": "python",
   "pygments_lexer": "ipython3",
   "version": "3.6.5"
  }
 },
 "nbformat": 4,
 "nbformat_minor": 2
}
